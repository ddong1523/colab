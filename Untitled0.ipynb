{
  "nbformat": 4,
  "nbformat_minor": 0,
  "metadata": {
    "colab": {
      "provenance": [],
      "authorship_tag": "ABX9TyNtM2L1KL4vet0x2PdnLwr7",
      "include_colab_link": true
    },
    "kernelspec": {
      "name": "python3",
      "display_name": "Python 3"
    },
    "language_info": {
      "name": "python"
    }
  },
  "cells": [
    {
      "cell_type": "markdown",
      "metadata": {
        "id": "view-in-github",
        "colab_type": "text"
      },
      "source": [
        "<a href=\"https://colab.research.google.com/github/ddong1523/colab/blob/main/Untitled0.ipynb\" target=\"_parent\"><img src=\"https://colab.research.google.com/assets/colab-badge.svg\" alt=\"Open In Colab\"/></a>"
      ]
    },
    {
      "cell_type": "code",
      "execution_count": 36,
      "metadata": {
        "colab": {
          "base_uri": "https://localhost:8080/"
        },
        "id": "4kI4G5CbjfT8",
        "outputId": "2280bd5f-30a1-46ef-dfea-700ff85e2f94"
      },
      "outputs": [
        {
          "output_type": "stream",
          "name": "stdout",
          "text": [
            "원본 문자열 ==> Python\n",
            "변환 문자열 ==> python\n"
          ]
        }
      ],
      "source": [
        "text = input(\"원본 문자열 ==> \")\n",
        "print(\"변환 문자열 ==>\",text.lower())"
      ]
    },
    {
      "cell_type": "code",
      "source": [
        "Ptext = input(\"원본 문자열 ==> \")\n",
        "singer_length = len(text)\n",
        "#print(singer_length)\n",
        "r_singer= \"\"\n",
        "while singer_length > 0 :\n",
        "  r_singer = r_singer + text[singer_length-1]\n",
        "  singer_length = singer_length -1\n",
        "print(\"반대 문자열 ==>\", r_singer)"
      ],
      "metadata": {
        "colab": {
          "base_uri": "https://localhost:8080/"
        },
        "id": "D6Q5Rlnnktg5",
        "outputId": "4eb1dd09-72ae-492a-9645-242ee5911ec3"
      },
      "execution_count": 24,
      "outputs": [
        {
          "output_type": "stream",
          "name": "stdout",
          "text": [
            "원본 문자열 ==> 트와이스\n",
            "반대 문자열 ==> 스이와트\n"
          ]
        }
      ]
    },
    {
      "cell_type": "code",
      "source": [
        "text1 = input(\"첫 번째 문자열 ==>\")\n",
        "text2 = input(\"두 번째 문자열 ==>\")\n",
        "\n",
        "c = len(text1)\n",
        "d = len(text2)\n",
        "\n",
        "diff = c - d\n",
        "\n",
        "print(\"두 문자열의 길이 차이는\", diff, \"입니다.\")"
      ],
      "metadata": {
        "colab": {
          "base_uri": "https://localhost:8080/"
        },
        "id": "dWkwC-1qoWGV",
        "outputId": "b26e86f4-9dff-473d-901c-10a26472b42f"
      },
      "execution_count": 37,
      "outputs": [
        {
          "output_type": "stream",
          "name": "stdout",
          "text": [
            "첫 번째 문자열 ==>난생처음 파이썬\n",
            "두 번째 문자열 ==>First Python\n",
            "두 문자열의 길이 차이는 -4 입니다.\n"
          ]
        }
      ]
    },
    {
      "cell_type": "code",
      "source": [],
      "metadata": {
        "id": "X5kP3u-pxkzc"
      },
      "execution_count": null,
      "outputs": []
    }
  ]
}