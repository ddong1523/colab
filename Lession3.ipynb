{
  "nbformat": 4,
  "nbformat_minor": 0,
  "metadata": {
    "colab": {
      "name": "Lession3.ipynb",
      "provenance": [],
      "authorship_tag": "ABX9TyPULhvNqhcnPQurUwsz2v3T",
      "include_colab_link": true
    },
    "kernelspec": {
      "name": "python3",
      "display_name": "Python 3"
    },
    "language_info": {
      "name": "python"
    }
  },
  "cells": [
    {
      "cell_type": "markdown",
      "metadata": {
        "id": "view-in-github",
        "colab_type": "text"
      },
      "source": [
        "<a href=\"https://colab.research.google.com/github/ddong1523/colab/blob/main/Lession3.ipynb\" target=\"_parent\"><img src=\"https://colab.research.google.com/assets/colab-badge.svg\" alt=\"Open In Colab\"/></a>"
      ]
    },
    {
      "cell_type": "code",
      "execution_count": 7,
      "metadata": {
        "colab": {
          "base_uri": "https://localhost:8080/"
        },
        "id": "4vZMhmilvtdq",
        "outputId": "e7f1f770-5434-4be4-cb5a-e250c0ab5b80"
      },
      "outputs": [
        {
          "output_type": "stream",
          "name": "stdout",
          "text": [
            "파운드(lb)를 입력하세요:15\n",
            "15.0 파운드는 6.804 킬로그램입니다.\n",
            "킬로그램(kg)을 입력하세요:15\n",
            "15.0 킬로그램(kg)은 33.069 파운드입니다.\n"
          ]
        }
      ],
      "source": [
        "pound = float(input(\"파운드(lb)를 입력하세요:\"))\n",
        "kg = pound * 0.453592\n",
        "print(pound, \"파운드는\", round(kg, 3), \"킬로그램입니다.\")\n",
        "kg = float(input(\"킬로그램(kg)을 입력하세요:\"))\n",
        "pound = kg * 2.204623\n",
        "print(kg, \"킬로그램(kg)은\", round(pound, 3), \"파운드입니다.\")"
      ]
    },
    {
      "cell_type": "code",
      "source": [],
      "metadata": {
        "id": "EkwSUk130HSb"
      },
      "execution_count": null,
      "outputs": []
    }
  ]
}