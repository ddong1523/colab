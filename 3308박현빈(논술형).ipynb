{
  "nbformat": 4,
  "nbformat_minor": 0,
  "metadata": {
    "colab": {
      "name": "3308박현빈(논술형).ipynb",
      "provenance": [],
      "authorship_tag": "ABX9TyP6jRyG7LlkUOm78tzArIwx",
      "include_colab_link": true
    },
    "kernelspec": {
      "name": "python3",
      "display_name": "Python 3"
    },
    "language_info": {
      "name": "python"
    }
  },
  "cells": [
    {
      "cell_type": "markdown",
      "metadata": {
        "id": "view-in-github",
        "colab_type": "text"
      },
      "source": [
        "<a href=\"https://colab.research.google.com/github/ddong1523/colab/blob/main/3308%EB%B0%95%ED%98%84%EB%B9%88(%EB%85%BC%EC%88%A0%ED%98%95).ipynb\" target=\"_parent\"><img src=\"https://colab.research.google.com/assets/colab-badge.svg\" alt=\"Open In Colab\"/></a>"
      ]
    },
    {
      "cell_type": "markdown",
      "source": [
        "컴퓨터과 3학년 3반 8번 박현빈"
      ],
      "metadata": {
        "id": "bhb4SIJXEqrM"
      }
    },
    {
      "cell_type": "code",
      "execution_count": 11,
      "metadata": {
        "colab": {
          "base_uri": "https://localhost:8080/"
        },
        "id": "0nKMIOhFEhm5",
        "outputId": "a2217583-bbfc-4e0b-cbda-1b396f1a0b78"
      },
      "outputs": [
        {
          "output_type": "stream",
          "name": "stdout",
          "text": [
            "첫번째 숫자 입력 = 100\n",
            "두번째 숫자 입력 = 20\n",
            "100 + 20 = 120\n",
            "100 - 20 = 80\n",
            "100 * 20 = 2000\n",
            "100 / 20 = 5.0\n",
            "100 // 20 = 5\n",
            "100 % 20 = 0\n",
            "100 ** 20 = 10000000000000000000000000000000000000000\n"
          ]
        }
      ],
      "source": [
        "num1 = int(input(\"첫번째 숫자 입력 = \"))\n",
        "num2 = int(input(\"두번째 숫자 입력 = \"))\n",
        "result1 = num1 + num2\n",
        "result2 = num1 - num2\n",
        "result3 = num1 * num2\n",
        "result4 = num1 / num2\n",
        "result5 = num1 // num2\n",
        "result6 = num1 % num2\n",
        "result7 = num1 ** num2\n",
        "print(num1,\"+\",num2,\"=\",result1)\n",
        "print(num1,\"-\",num2,\"=\",result2)\n",
        "print(num1,\"*\",num2,\"=\",result3)\n",
        "print(num1,\"/\",num2,\"=\",result4)\n",
        "print(num1,\"//\",num2,\"=\",result5)\n",
        "print(num1,\"%\",num2,\"=\",result6)\n",
        "print(num1,\"**\",num2,\"=\",result7)"
      ]
    },
    {
      "cell_type": "code",
      "source": [],
      "metadata": {
        "id": "1DEEa8x5G1A9"
      },
      "execution_count": null,
      "outputs": []
    }
  ]
}