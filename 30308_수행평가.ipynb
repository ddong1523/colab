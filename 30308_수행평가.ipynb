{
  "nbformat": 4,
  "nbformat_minor": 0,
  "metadata": {
    "colab": {
      "provenance": [],
      "authorship_tag": "ABX9TyMH9YHDglFkjBkAFAZEw347",
      "include_colab_link": true
    },
    "kernelspec": {
      "name": "python3",
      "display_name": "Python 3"
    },
    "language_info": {
      "name": "python"
    }
  },
  "cells": [
    {
      "cell_type": "markdown",
      "metadata": {
        "id": "view-in-github",
        "colab_type": "text"
      },
      "source": [
        "<a href=\"https://colab.research.google.com/github/ddong1523/colab/blob/main/30308_%EC%88%98%ED%96%89%ED%8F%89%EA%B0%80.ipynb\" target=\"_parent\"><img src=\"https://colab.research.google.com/assets/colab-badge.svg\" alt=\"Open In Colab\"/></a>"
      ]
    },
    {
      "cell_type": "code",
      "execution_count": 4,
      "metadata": {
        "colab": {
          "base_uri": "https://localhost:8080/"
        },
        "id": "EK0dODMabHqt",
        "outputId": "dce7802b-7ed0-40d7-afc5-fafd26cd8ce3"
      },
      "outputs": [
        {
          "output_type": "stream",
          "name": "stdout",
          "text": [
            "숫자를 입력 ==> 1773\n",
            "홀수입니다.\n"
          ]
        }
      ],
      "source": [
        "num = int(input(\"숫자를 입력 ==> \"))\n",
        "\n",
        "if (num % 2) == 0 :\n",
        "  print(\"짝수입니다.\")\n",
        "\n",
        "if (num % 2) == 1 :\n",
        "  print(\"홀수입니다.\")"
      ]
    },
    {
      "cell_type": "code",
      "source": [
        "num = int(input(\"숫자를 입력 ==> \"))\n",
        "\n",
        "if num > 100:\n",
        "    if num < 1000:\n",
        "      print(\"100보다 크고 1000보다 작군요\")\n",
        "    else :\n",
        "      print(\"1000보다 크군요\")"
      ],
      "metadata": {
        "colab": {
          "base_uri": "https://localhost:8080/"
        },
        "id": "tOVnNcGBdBZS",
        "outputId": "b5102042-3019-49f2-f5db-353116bf54e9"
      },
      "execution_count": 6,
      "outputs": [
        {
          "output_type": "stream",
          "name": "stdout",
          "text": [
            "숫자를 입력 ==> 150\n",
            "100보다 크고 1000보다 작군요\n"
          ]
        }
      ]
    },
    {
      "cell_type": "code",
      "source": [
        "num = int(input(\"점수를 입력 ==> \"))\n",
        "\n",
        "if num > 90:\n",
        "  print(\"A학점입니다.\")\n",
        "else:\n",
        "  if num > 80:\n",
        "    print(\"B학점입니다.\")\n",
        "  else:\n",
        "    if num > 70:\n",
        "      print(\"C학점입니다.\")\n",
        "    else:\n",
        "      if num > 60:\n",
        "       print(\"D학점입니다.\")\n",
        "      else:\n",
        "        print(\"F학점입니다.\")"
      ],
      "metadata": {
        "colab": {
          "base_uri": "https://localhost:8080/"
        },
        "id": "Pb8NCdt6ggpY",
        "outputId": "e8c2156e-fcad-42f4-dc18-d4679ded3cb0"
      },
      "execution_count": 11,
      "outputs": [
        {
          "output_type": "stream",
          "name": "stdout",
          "text": [
            "점수를 입력 ==> 77\n",
            "C학점입니다.\n"
          ]
        }
      ]
    },
    {
      "cell_type": "code",
      "source": [
        "import random\n",
        "options=['가위','바위','보']\n",
        "rules={'바위':'보', '가위':'바위', '보':'가위'}\n",
        "\n",
        "while True:\n",
        "\n",
        "  player=input('가위,바위,보 하나를 고르시오. == >')\n",
        "  computer=rules[random.choice(options)]\n",
        "\n",
        "  if player in ('종료', '정지', '멈춤'):break\n",
        "\n",
        "  elif player in rules:\n",
        "    print('컴퓨터가 고른 선택은',computer, end=':')\n",
        "\n",
        "    if rules[computer]==player:\n",
        "      print('이겼다')\n",
        "\n",
        "    elif rules[player]==computer:\n",
        "      print('졌다')\n",
        "\n",
        "    else:\n",
        "      print('무승부')"
      ],
      "metadata": {
        "colab": {
          "base_uri": "https://localhost:8080/"
        },
        "id": "fljnkn6ajKkf",
        "outputId": "7e729c6a-d9e0-4563-cdc2-78859bf8c9a3"
      },
      "execution_count": 28,
      "outputs": [
        {
          "name": "stdout",
          "output_type": "stream",
          "text": [
            "가위,바위,보 하나를 고르시오. == >바위\n",
            "컴퓨터가 고른 선택은 바위:무승부\n",
            "가위,바위,보 하나를 고르시오. == >종료\n"
          ]
        }
      ]
    },
    {
      "cell_type": "code",
      "source": [],
      "metadata": {
        "id": "R71WCCbjnTSe"
      },
      "execution_count": null,
      "outputs": []
    }
  ]
}