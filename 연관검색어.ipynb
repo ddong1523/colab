{
  "nbformat": 4,
  "nbformat_minor": 0,
  "metadata": {
    "colab": {
      "provenance": [],
      "authorship_tag": "ABX9TyNEqDar6gnv1U2tiA5LaOvT",
      "include_colab_link": true
    },
    "kernelspec": {
      "name": "python3",
      "display_name": "Python 3"
    },
    "language_info": {
      "name": "python"
    }
  },
  "cells": [
    {
      "cell_type": "markdown",
      "metadata": {
        "id": "view-in-github",
        "colab_type": "text"
      },
      "source": [
        "<a href=\"https://colab.research.google.com/github/ddong1523/colab/blob/main/%EC%97%B0%EA%B4%80%EA%B2%80%EC%83%89%EC%96%B4.ipynb\" target=\"_parent\"><img src=\"https://colab.research.google.com/assets/colab-badge.svg\" alt=\"Open In Colab\"/></a>"
      ]
    },
    {
      "cell_type": "code",
      "execution_count": 1,
      "metadata": {
        "colab": {
          "base_uri": "https://localhost:8080/"
        },
        "id": "fymG2Oaxhhid",
        "outputId": "5594697a-51eb-472b-811f-fba445f2c125"
      },
      "outputs": [
        {
          "output_type": "stream",
          "name": "stdout",
          "text": [
            "Looking in indexes: https://pypi.org/simple, https://us-python.pkg.dev/colab-wheels/public/simple/\n",
            "Requirement already satisfied: requests in /usr/local/lib/python3.7/dist-packages (2.23.0)\n",
            "Requirement already satisfied: certifi>=2017.4.17 in /usr/local/lib/python3.7/dist-packages (from requests) (2022.9.24)\n",
            "Requirement already satisfied: urllib3!=1.25.0,!=1.25.1,<1.26,>=1.21.1 in /usr/local/lib/python3.7/dist-packages (from requests) (1.24.3)\n",
            "Requirement already satisfied: chardet<4,>=3.0.2 in /usr/local/lib/python3.7/dist-packages (from requests) (3.0.4)\n",
            "Requirement already satisfied: idna<3,>=2.5 in /usr/local/lib/python3.7/dist-packages (from requests) (2.10)\n",
            "Looking in indexes: https://pypi.org/simple, https://us-python.pkg.dev/colab-wheels/public/simple/\n",
            "Requirement already satisfied: bs4 in /usr/local/lib/python3.7/dist-packages (0.0.1)\n",
            "Requirement already satisfied: beautifulsoup4 in /usr/local/lib/python3.7/dist-packages (from bs4) (4.6.3)\n"
          ]
        }
      ],
      "source": [
        "!pip install requests\n",
        "!pip install bs4"
      ]
    },
    {
      "cell_type": "code",
      "source": [
        "from bs4 import BeautifulSoup\n",
        "import requests\n",
        "\n",
        "search_word = \"핼로윈\" \n",
        "title_list = []\n",
        "\n",
        "def naver_news_get(start_num, end_num) :\n",
        "  while start_num <= end_num :\n",
        "    url = 'https://search.naver.com/search.naver?where=news&sm=tab_jum&query={}&start={}'.format(search_word,start_num)\n",
        "    req = requests.get(url)\n",
        "    #print(req)\n",
        "    start_num += 1\n",
        "    if req.ok :\n",
        "      html = req.text\n",
        "      soup = BeautifulSoup(html, \"html.parser\")\n",
        "      #print(soup)\n",
        "      titles = soup.select('.news_tit')\n",
        "      for title in titles :\n",
        "        title_list.append(title['title'])\n",
        "  return title_list\n",
        "print(naver_news_get(1,5))"
      ],
      "metadata": {
        "colab": {
          "base_uri": "https://localhost:8080/"
        },
        "id": "w-eIS5_5klIM",
        "outputId": "0acff764-94d3-46fc-f04a-f95e0cda661a"
      },
      "execution_count": 10,
      "outputs": [
        {
          "output_type": "stream",
          "name": "stdout",
          "text": [
            "['트와이스, 핼로윈 콘셉트 7주년 팬미팅 취소..\"깊은 애도\"[공식]', '동두천시, 이태원 핼로윈 참사 관련 긴급간부회의', '[공식] \\'1박2일\\' 측 \"단풍 로드 특집 중 핼로윈 내용 편집해 추후 방송 예정\"', '이태원 ‘핼로윈 참사’…대구지역 사망자 1명 확인', \"도쿄도 어제 핼로윈 축제‥'DJ폴리스'가 현장 통제\", '배우 이지한-치어리더 김유나, 이태원 핼로윈 참사로 사망', '[속보] 핼로윈의 비극... 오전 4시 현재 146명 사망', \"'이태원 참사'에 제주 핼로윈 등 각종 행사 취소·축소(종합)\", '이태원참사 사망 이지한 영면 “따뜻했고 순수했던 배우”', 'EDM 페스티벌도 취소…\"이태원 핼로윈 참사 애도\" [공식입장]', '[공식] \\'1박2일\\' 측 \"단풍 로드 특집 중 핼로윈 내용 편집해 추후 방송 예정\"', '이태원 ‘핼로윈 참사’…대구지역 사망자 1명 확인', '동두천시, 이태원 핼로윈 참사 관련 긴급간부회의', \"도쿄도 어제 핼로윈 축제‥'DJ폴리스'가 현장 통제\", '배우 이지한-치어리더 김유나, 이태원 핼로윈 참사로 사망', '[속보] 핼로윈의 비극... 오전 4시 현재 146명 사망', '이태원참사 사망 이지한 영면 “따뜻했고 순수했던 배우”', \"'이태원 참사'에 제주 핼로윈 등 각종 행사 취소·축소(종합)\", 'EDM 페스티벌도 취소…\"이태원 핼로윈 참사 애도\" [공식입장]', \"왜 여성 사망이 압도적으로 많나…치명적 압사 참사 '이태원 핼로윈'\", '이태원 ‘핼로윈 참사’…대구지역 사망자 1명 확인', '동두천시, 이태원 핼로윈 참사 관련 긴급간부회의', \"도쿄도 어제 핼로윈 축제‥'DJ폴리스'가 현장 통제\", '배우 이지한-치어리더 김유나, 이태원 핼로윈 참사로 사망', '[속보] 핼로윈의 비극... 오전 4시 현재 146명 사망', '이태원참사 사망 이지한 영면 “따뜻했고 순수했던 배우”', \"'이태원 참사'에 제주 핼로윈 등 각종 행사 취소·축소(종합)\", 'EDM 페스티벌도 취소…\"이태원 핼로윈 참사 애도\" [공식입장]', \"왜 여성 사망이 압도적으로 많나…치명적 압사 참사 '이태원 핼로윈'\", '찰스3세 英국왕 “이태원 핼로윈 참사 희생자에 깊이 위로”', '동두천시, 이태원 핼로윈 참사 관련 긴급간부회의', \"도쿄도 어제 핼로윈 축제‥'DJ폴리스'가 현장 통제\", '배우 이지한-치어리더 김유나, 이태원 핼로윈 참사로 사망', '[속보] 핼로윈의 비극... 오전 4시 현재 146명 사망', '이태원참사 사망 이지한 영면 “따뜻했고 순수했던 배우”', \"'이태원 참사'에 제주 핼로윈 등 각종 행사 취소·축소(종합)\", 'EDM 페스티벌도 취소…\"이태원 핼로윈 참사 애도\" [공식입장]', \"왜 여성 사망이 압도적으로 많나…치명적 압사 참사 '이태원 핼로윈'\", '찰스3세 英국왕 “이태원 핼로윈 참사 희생자에 깊이 위로”', '[ZOOM] ‘비극으로 끝난 이태원 핼로윈’ 사고 현장 사진 모음', \"도쿄도 어제 핼로윈 축제‥'DJ폴리스'가 현장 통제\", '배우 이지한-치어리더 김유나, 이태원 핼로윈 참사로 사망', '[속보] 핼로윈의 비극... 오전 4시 현재 146명 사망', '이태원참사 사망 이지한 영면 “따뜻했고 순수했던 배우”', \"'이태원 참사'에 제주 핼로윈 등 각종 행사 취소·축소(종합)\", 'EDM 페스티벌도 취소…\"이태원 핼로윈 참사 애도\" [공식입장]', \"왜 여성 사망이 압도적으로 많나…치명적 압사 참사 '이태원 핼로윈'\", '찰스3세 英국왕 “이태원 핼로윈 참사 희생자에 깊이 위로”', '[ZOOM] ‘비극으로 끝난 이태원 핼로윈’ 사고 현장 사진 모음', '“홍대앞·강남 클럽 핼로윈 휴업 당부”… 마포구·강남구 권고']\n"
          ]
        }
      ]
    },
    {
      "cell_type": "code",
      "source": [
        "!pip install konlpy"
      ],
      "metadata": {
        "colab": {
          "base_uri": "https://localhost:8080/"
        },
        "id": "C87A1n7umx3R",
        "outputId": "96681ec2-b2e1-499e-ba8b-31f0efabaa99"
      },
      "execution_count": 12,
      "outputs": [
        {
          "output_type": "stream",
          "name": "stdout",
          "text": [
            "Looking in indexes: https://pypi.org/simple, https://us-python.pkg.dev/colab-wheels/public/simple/\n",
            "Requirement already satisfied: konlpy in /usr/local/lib/python3.7/dist-packages (0.6.0)\n",
            "Requirement already satisfied: numpy>=1.6 in /usr/local/lib/python3.7/dist-packages (from konlpy) (1.21.6)\n",
            "Requirement already satisfied: JPype1>=0.7.0 in /usr/local/lib/python3.7/dist-packages (from konlpy) (1.4.1)\n",
            "Requirement already satisfied: lxml>=4.1.0 in /usr/local/lib/python3.7/dist-packages (from konlpy) (4.9.1)\n",
            "Requirement already satisfied: typing-extensions in /usr/local/lib/python3.7/dist-packages (from JPype1>=0.7.0->konlpy) (4.1.1)\n",
            "Requirement already satisfied: packaging in /usr/local/lib/python3.7/dist-packages (from JPype1>=0.7.0->konlpy) (21.3)\n",
            "Requirement already satisfied: pyparsing!=3.0.5,>=2.0.2 in /usr/local/lib/python3.7/dist-packages (from packaging->JPype1>=0.7.0->konlpy) (3.0.9)\n"
          ]
        }
      ]
    },
    {
      "cell_type": "code",
      "source": [
        "from konlpy.tag import Kkma\n",
        "from konlpy.utils import pprint\n",
        "\n",
        "def classification() :\n",
        "  temp = []\n",
        "  kkma = Kkma()\n",
        "  titles = naver_news_get(1,2)\n",
        "  for title in titles :\n",
        "    temp = kkma.pos(title)\n",
        "  return temp\n",
        "print(classification())"
      ],
      "metadata": {
        "colab": {
          "base_uri": "https://localhost:8080/"
        },
        "id": "uoQBsff6n5ru",
        "outputId": "056be828-cf23-4994-8a1e-f7e4226c994f"
      },
      "execution_count": 13,
      "outputs": [
        {
          "output_type": "stream",
          "name": "stdout",
          "text": [
            "[('왜', 'MAG'), ('여성', 'NNG'), ('사망', 'NNG'), ('이', 'JKS'), ('압도적', 'NNG'), ('으로', 'JKM'), ('많', 'VA'), ('나', 'EFQ'), ('…', 'SE'), ('치명적', 'NNG'), ('압사', 'NNG'), ('참사', 'NNG'), (\"'\", 'SS'), ('이태원', 'NNG'), ('핼', 'UN'), ('로', 'JKM'), ('윈', 'UN'), (\"'\", 'SS')]\n"
          ]
        }
      ]
    },
    {
      "cell_type": "code",
      "source": [
        "!sudo apt-get install -y fonts-nanum"
      ],
      "metadata": {
        "colab": {
          "base_uri": "https://localhost:8080/"
        },
        "id": "GEpsL-_6q1Tf",
        "outputId": "9e7dc093-de12-4b17-97c6-026bba889a71"
      },
      "execution_count": 15,
      "outputs": [
        {
          "output_type": "stream",
          "name": "stdout",
          "text": [
            "Reading package lists... Done\n",
            "Building dependency tree       \n",
            "Reading state information... Done\n",
            "The following package was automatically installed and is no longer required:\n",
            "  libnvidia-common-460\n",
            "Use 'sudo apt autoremove' to remove it.\n",
            "The following NEW packages will be installed:\n",
            "  fonts-nanum\n",
            "0 upgraded, 1 newly installed, 0 to remove and 4 not upgraded.\n",
            "Need to get 9,604 kB of archives.\n",
            "After this operation, 29.5 MB of additional disk space will be used.\n",
            "Get:1 http://archive.ubuntu.com/ubuntu bionic/universe amd64 fonts-nanum all 20170925-1 [9,604 kB]\n",
            "Fetched 9,604 kB in 0s (39.0 MB/s)\n",
            "debconf: unable to initialize frontend: Dialog\n",
            "debconf: (No usable dialog-like program is installed, so the dialog based frontend cannot be used. at /usr/share/perl5/Debconf/FrontEnd/Dialog.pm line 76, <> line 1.)\n",
            "debconf: falling back to frontend: Readline\n",
            "debconf: unable to initialize frontend: Readline\n",
            "debconf: (This frontend requires a controlling tty.)\n",
            "debconf: falling back to frontend: Teletype\n",
            "dpkg-preconfigure: unable to re-open stdin: \n",
            "Selecting previously unselected package fonts-nanum.\n",
            "(Reading database ... 123942 files and directories currently installed.)\n",
            "Preparing to unpack .../fonts-nanum_20170925-1_all.deb ...\n",
            "Unpacking fonts-nanum (20170925-1) ...\n",
            "Setting up fonts-nanum (20170925-1) ...\n",
            "Processing triggers for fontconfig (2.12.6-0ubuntu2) ...\n"
          ]
        }
      ]
    },
    {
      "cell_type": "code",
      "source": [
        "!sudo fc-cache -fv\n",
        "!rm ~/.cache/matplotlib -rf"
      ],
      "metadata": {
        "colab": {
          "base_uri": "https://localhost:8080/"
        },
        "id": "2eNFz_uiqlZP",
        "outputId": "ffee33b8-a315-4bc1-e2d1-6daa80ec8403"
      },
      "execution_count": 11,
      "outputs": [
        {
          "output_type": "stream",
          "name": "stdout",
          "text": [
            "/usr/share/fonts: caching, new cache contents: 0 fonts, 1 dirs\n",
            "/usr/share/fonts/truetype: caching, new cache contents: 0 fonts, 2 dirs\n",
            "/usr/share/fonts/truetype/humor-sans: caching, new cache contents: 1 fonts, 0 dirs\n",
            "/usr/share/fonts/truetype/liberation: caching, new cache contents: 16 fonts, 0 dirs\n",
            "/usr/local/share/fonts: caching, new cache contents: 0 fonts, 0 dirs\n",
            "/root/.local/share/fonts: skipping, no such directory\n",
            "/root/.fonts: skipping, no such directory\n",
            "/var/cache/fontconfig: cleaning cache directory\n",
            "/root/.cache/fontconfig: not cleaning non-existent cache directory\n",
            "/root/.fontconfig: not cleaning non-existent cache directory\n",
            "fc-cache: succeeded\n"
          ]
        }
      ]
    },
    {
      "cell_type": "code",
      "source": [
        "from bs4 import BeautifulSoup\n",
        "import requests\n",
        "from konlpy.tag import Twitter\n",
        "from collections import Counter\n",
        "from wordcloud import WordCloud\n",
        "import matplotlib.pyplot as plt"
      ],
      "metadata": {
        "id": "p2Yh3GhAqUEW"
      },
      "execution_count": 9,
      "outputs": []
    },
    {
      "cell_type": "code",
      "source": [
        "search_word = \"핼로윈\"\n",
        "start_num = 1\n",
        "title_list = []\n",
        "#print(req)\n",
        "\n",
        "def get_title(start_num, end_num) :\n",
        "  \n",
        "  while start_num <= end_num :\n",
        "    url = 'https://search.naver.com/search.naver?where=news&sm=tab_jum&query={}&start={}'.format(search_word,start_num)\n",
        "    req = requests.get(url)\n",
        "    \n",
        "    if req.ok :\n",
        "      html = req.text\n",
        "      soup = BeautifulSoup(html, \"html.parser\")\n",
        "      #print(soup)  \n",
        "      titles = soup.select('.news_tit')\n",
        "      for title in titles :\n",
        "        title_list.append(title['title'])\n",
        "    start_num += 1\n",
        "  #print(title_list)\n",
        "  #print(len(title_list))\n",
        "get_title(1, 10)\n",
        "\n",
        "def make_wordcloud(word_count) :\n",
        "  twitter = Twitter()\n",
        "  sentences_tag = []\n",
        "  for sentence in title_list :\n",
        "    morph = twitter.pos(sentence)\n",
        "    sentences_tag.append(morph)\n",
        "    #print(morph)\n",
        "    #print(\"-\" * 30)\n",
        "  #print(sentences_tag)\n",
        "  #print(\"\\n\" * 3)\n",
        "\n",
        "  noun_adj_list = []\n",
        "\n",
        "  for sentence in sentences_tag :\n",
        "    for word, tag in sentence :\n",
        "      if tag in ['Noun', 'Adjective'] :\n",
        "        noun_adj_list.append(word)\n",
        "    \n",
        "  counts = Counter(noun_adj_list)\n",
        "  tags = counts.most_common(word_count)\n",
        "  #print(tags)\n",
        "  \n",
        "  wc = WordCloud(font_path = '/usr/share/fonts/truetype/nanum/NanumBarunGothic.ttf', background_color='white', width=800, height=600)\n",
        "  print(dict(tags))\n",
        "  plt.rc('font', family='NanumBarunGothic')\n",
        "  cloud = wc.generate_from_frequencies(dict(tags))\n",
        "  plt.figure(figsize=(10,8))\n",
        "  plt.axis('off')\n",
        "  plt.imshow(cloud)\n",
        "  plt.show()\n",
        "\n",
        "\n",
        "make_wordcloud(10)"
      ],
      "metadata": {
        "colab": {
          "base_uri": "https://localhost:8080/",
          "height": 467
        },
        "id": "cSUGmaxZqTeA",
        "outputId": "dd254e64-9583-447f-9dbd-8dfa15671d47"
      },
      "execution_count": 17,
      "outputs": [
        {
          "output_type": "stream",
          "name": "stdout",
          "text": [
            "{'핼로윈': 91, '이태원': 74, '참사': 71, '사망': 32, '취소': 28, '배우': 16, '이지': 16, '비극': 14, '제주': 14, '행사': 14}\n"
          ]
        },
        {
          "output_type": "display_data",
          "data": {
            "text/plain": [
              "<Figure size 720x576 with 1 Axes>"
            ],
            "image/png": "[encoded data removed]"
          },
          "metadata": {
            "needs_background": "light"
          }
        }
      ]
    }
  ]
}