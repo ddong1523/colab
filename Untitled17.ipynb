{
  "nbformat": 4,
  "nbformat_minor": 0,
  "metadata": {
    "colab": {
      "provenance": [],
      "authorship_tag": "ABX9TyOuIKrakmcp/oYLmsCAZlfn",
      "include_colab_link": true
    },
    "kernelspec": {
      "name": "python3",
      "display_name": "Python 3"
    },
    "language_info": {
      "name": "python"
    }
  },
  "cells": [
    {
      "cell_type": "markdown",
      "metadata": {
        "id": "view-in-github",
        "colab_type": "text"
      },
      "source": [
        "<a href=\"https://colab.research.google.com/github/ddong1523/colab/blob/main/Untitled17.ipynb\" target=\"_parent\"><img src=\"https://colab.research.google.com/assets/colab-badge.svg\" alt=\"Open In Colab\"/></a>"
      ]
    },
    {
      "cell_type": "code",
      "source": [
        "import time\n",
        "from datetime import datetime\n",
        "\n",
        "timestmp =\n",
        "print(timestamp)"
      ],
      "metadata": {
        "id": "X0EryKhxfxoq"
      },
      "execution_count": null,
      "outputs": []
    },
    {
      "cell_type": "code",
      "source": [
        "import time\n",
        "from datetime import datetime\n",
        "\n",
        "now = '2022-10-11'\n",
        "after = '2022-11-17'\n",
        "\n",
        "tn = time.mktime(datetime.strptime(now, '%Y-%m-%d').timetuple())\n",
        "ta = time.mktime(datetime.strptime(after, '%Y-%m-%d').timetuple())\n",
        "dday = ta - tn\n",
        "dday = dday / (24*60*60)\n",
        "print(dday)"
      ],
      "metadata": {
        "colab": {
          "base_uri": "https://localhost:8080/"
        },
        "id": "phmBV15nfGcI",
        "outputId": "5775c8ac-2dd1-4dfc-985f-a582c40ce999"
      },
      "execution_count": 13,
      "outputs": [
        {
          "output_type": "stream",
          "name": "stdout",
          "text": [
            "37.0\n"
          ]
        }
      ]
    },
    {
      "cell_type": "code",
      "source": [
        "def passwd_check(passwd) :\n",
        "  if len(passwd) >= 8:\n",
        "    print(\"Good~ . 8자리 이상\")\n",
        "  else :\n",
        "    print(\"오류: 비밀번호가 규칙에 맞지 않습니다.\")\n",
        "\n",
        "passwd = input(\"새로윤 비밀번호를 입력하세요 : \")\n",
        "\n",
        "passwd_check(passwd)"
      ],
      "metadata": {
        "colab": {
          "base_uri": "https://localhost:8080/"
        },
        "id": "4jjvbsrYkA94",
        "outputId": "6e3c8f4f-dbd5-41f8-da32-33fe54eeb43b"
      },
      "execution_count": 20,
      "outputs": [
        {
          "output_type": "stream",
          "name": "stdout",
          "text": [
            "새로윤 비밀번호를 입력하세요 : 1246578\n",
            "오류: 비밀번호가 규칙에 맞지 않습니다.\n"
          ]
        }
      ]
    },
    {
      "cell_type": "code",
      "source": [
        "hangul = \"\"\"\n",
        "          나랏말싸미 듕귁에 달아 문자와로 서로 사맛다 아니할쎄\n",
        "          이런 전차로 어린 백생이 나으고자 홀베이셔도 마찬네 제 뜨들\n",
        "          시러퍼디 묻할 노미하니아내 이랄 윙하야 어엿버너겨 새로 스물 여둘 짜랄\n",
        "          맹가노니 사람마다 해여 수비니겨 날로 쑤메 뻔한킈 하고자 할 따라미니라\n",
        "          \"\"\"\n",
        "for i in range()"
      ],
      "metadata": {
        "id": "tn3ZOAswmJUV"
      },
      "execution_count": null,
      "outputs": []
    }
  ]
}