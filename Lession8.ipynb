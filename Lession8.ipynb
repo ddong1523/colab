{
  "nbformat": 4,
  "nbformat_minor": 0,
  "metadata": {
    "colab": {
      "provenance": [],
      "authorship_tag": "ABX9TyNsA/wKGkytHc+0i9h5fKl/",
      "include_colab_link": true
    },
    "kernelspec": {
      "name": "python3",
      "display_name": "Python 3"
    },
    "language_info": {
      "name": "python"
    }
  },
  "cells": [
    {
      "cell_type": "markdown",
      "metadata": {
        "id": "view-in-github",
        "colab_type": "text"
      },
      "source": [
        "<a href=\"https://colab.research.google.com/github/ddong1523/colab/blob/main/Lession8.ipynb\" target=\"_parent\"><img src=\"https://colab.research.google.com/assets/colab-badge.svg\" alt=\"Open In Colab\"/></a>"
      ]
    },
    {
      "cell_type": "code",
      "execution_count": null,
      "metadata": {
        "colab": {
          "base_uri": "https://localhost:8080/"
        },
        "id": "7wiNz2nWhK0Y",
        "outputId": "845489a5-6491-42d8-fe2c-4f8b503a1c78"
      },
      "outputs": [
        {
          "output_type": "stream",
          "name": "stdout",
          "text": [
            "A님. 두 숫자를 입력하세요\n",
            "정수1 ==>50\n",
            "정수2 ==>30\n",
            "결과 : 80\n",
            "B님. 두 숫자를 입력하세요\n",
            "정수1 ==>10\n",
            "정수2 ==>20\n",
            "결과 : 30\n",
            "C님. 두 숫자를 입력하세요\n",
            "정수1 ==>50\n",
            "정수2 ==>40\n",
            "결과 : 90\n"
          ]
        }
      ],
      "source": [
        "def hapFunc() :\n",
        "  num1 = int(input(\"정수1 ==>\"))\n",
        "  num2 = int(input(\"정수2 ==>\"))\n",
        "  return num1 + num2\n",
        "\n",
        "print(\"A님. 두 숫자를 입력하세요\")\n",
        "hap = hapFunc()\n",
        "print(\"결과 :\", hap)\n",
        "\n",
        "print(\"B님. 두 숫자를 입력하세요\")\n",
        "hap = hapFunc()\n",
        "print(\"결과 :\", hap)\n",
        "\n",
        "print(\"C님. 두 숫자를 입력하세요\")\n",
        "hap = hapFunc()\n",
        "print(\"결과 :\", hap)"
      ]
    },
    {
      "cell_type": "code",
      "source": [
        "def plus(v1, v2) :\n",
        "  result = 0\n",
        "  result = v1 + v2\n",
        "  return result\n",
        "\n",
        "hap = 0\n",
        "\n",
        "hap = plus(100,200)\n",
        "print(\"100과 200의 plus() 함수 결과는\", hap)"
      ],
      "metadata": {
        "colab": {
          "base_uri": "https://localhost:8080/"
        },
        "id": "DYAE-UZylPhr",
        "outputId": "8521fb6b-d933-4523-bdf8-ac34d5a1d4c9"
      },
      "execution_count": null,
      "outputs": [
        {
          "output_type": "stream",
          "name": "stdout",
          "text": [
            "100과 200의 plus() 함수 결과는 300\n"
          ]
        }
      ]
    },
    {
      "cell_type": "code",
      "source": [
        "def hapFunc(op, num1, num2) :\n",
        "  if op == '+' :\n",
        "    return num1 + num2\n",
        "  elif op == '-' :\n",
        "    return num1 - num2\n",
        "  elif op == '*' :\n",
        "    return num1 * num2\n",
        "  elif op == '/' :\n",
        "    return num1 / num2\n",
        "\n",
        "op = input(\"계산 입력(+, -, *, /):\")\n",
        "num1 = int(input(\"첫번째 숫자를 입력 : \"))\n",
        "num2 = int(input(\"두번째 숫자를 입력 : \"))\n",
        "print(\"## 계산기 :\", num1, op , num2, \"=\", hapFunc(op, num1, num2))"
      ],
      "metadata": {
        "colab": {
          "base_uri": "https://localhost:8080/"
        },
        "id": "Uaj4SrehlzfO",
        "outputId": "07c2a97d-e588-4960-b44b-a17056421a56"
      },
      "execution_count": null,
      "outputs": [
        {
          "output_type": "stream",
          "name": "stdout",
          "text": [
            "계산 입력(+, -, *, /):60\n",
            "첫번째 숫자를 입력 : 30\n",
            "두번째 숫자를 입력 : 30\n",
            "## 계산기 : 30 60 30 = None\n"
          ]
        }
      ]
    },
    {
      "cell_type": "code",
      "source": [
        "def para_func(v1, v2, v3 = 0) :\n",
        "  result = 0\n",
        "  result = v1 + v2 + v3\n",
        "  return result\n",
        "\n",
        "hap = 0\n",
        "\n",
        "hap = para_func(10, 20)\n",
        "print(\"매개변수 2개 함수 호출 결과 ==>\", hap)\n",
        "hap = para_func(10, 20, 30)\n",
        "print(\"매개변수 2개 함수 호출 결과 ==>\", hap)"
      ],
      "metadata": {
        "colab": {
          "base_uri": "https://localhost:8080/"
        },
        "id": "6JRy1x8_ond4",
        "outputId": "cfe742f3-4501-4116-ccb6-acfc6db51cbf"
      },
      "execution_count": null,
      "outputs": [
        {
          "output_type": "stream",
          "name": "stdout",
          "text": [
            "매개변수 2개 함수 호출 결과 ==> 30\n",
            "매개변수 2개 함수 호출 결과 ==> 60\n"
          ]
        }
      ]
    },
    {
      "cell_type": "code",
      "source": [
        "import random\n",
        "lotto_num = []\n",
        "def lotto() :\n",
        "  while True :\n",
        "    num = random.randint(1,45)\n",
        "    if num in lotto_num :\n",
        "      num = random.randint(1,45)\n",
        "    else :\n",
        "      lotto_num.append(num)\n",
        "    if len(lotto_num) == 6 :\n",
        "      break\n",
        "  return lotto_num\n",
        "\n",
        "print(\"** 로또 번호를 추첨합니다. **\")\n",
        "print(\"오늘은 로또 번호 == >\", lotto())"
      ],
      "metadata": {
        "id": "S2ljEHGaqORS",
        "colab": {
          "base_uri": "https://localhost:8080/"
        },
        "outputId": "fe0cd7ba-c81c-49a0-a533-53effd9b15b1"
      },
      "execution_count": 3,
      "outputs": [
        {
          "output_type": "stream",
          "name": "stdout",
          "text": [
            "** 로또 번호를 추첨합니다. **\n",
            "오늘은 로또 번호 == > [18, 32, 22, 16, 21, 33]\n"
          ]
        }
      ]
    },
    {
      "cell_type": "code",
      "source": [],
      "metadata": {
        "id": "ZozHR08-6MMI"
      },
      "execution_count": null,
      "outputs": []
    }
  ]
}