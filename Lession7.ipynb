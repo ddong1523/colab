{
  "nbformat": 4,
  "nbformat_minor": 0,
  "metadata": {
    "colab": {
      "provenance": [],
      "authorship_tag": "ABX9TyOWT9l0S53sz0f4vT0L/jWE",
      "include_colab_link": true
    },
    "kernelspec": {
      "name": "python3",
      "display_name": "Python 3"
    },
    "language_info": {
      "name": "python"
    }
  },
  "cells": [
    {
      "cell_type": "markdown",
      "metadata": {
        "id": "view-in-github",
        "colab_type": "text"
      },
      "source": [
        "<a href=\"https://colab.research.google.com/github/ddong1523/colab/blob/main/Lession7.ipynb\" target=\"_parent\"><img src=\"https://colab.research.google.com/assets/colab-badge.svg\" alt=\"Open In Colab\"/></a>"
      ]
    },
    {
      "cell_type": "code",
      "execution_count": null,
      "metadata": {
        "colab": {
          "base_uri": "https://localhost:8080/"
        },
        "id": "uB3wbHAu2_oM",
        "outputId": "8b1eb2dd-2a9b-4121-9109-969b41c4e515"
      },
      "outputs": [
        {
          "output_type": "stream",
          "name": "stdout",
          "text": [
            "** 야구 게임 **\n"
          ]
        }
      ],
      "source": [
        "import random\n",
        "com_list = [1,2,3,4,5,6,7,8,9]\n",
        "com_num, user_num = [], []\n",
        "\n",
        "def user_fun():\n",
        "  usr = input(\"3개의 숫자를 입력(1~9까지) ==> \")\n",
        "  for i in range(0,5,2) :\n",
        "    user_num.append(int(usr[i]))\n",
        "\n",
        "#컴퓨터 - 3개의 중복되지 않는 숫자 만들기\n",
        "for i in range(3):\n",
        "  r = random.choice(com_list)\n",
        "  com_list.remove(r)\n",
        "  com_list.append(r)\n",
        "\n",
        "print(\"** 야구 게임 **\")\n",
        "\n",
        "strike, ball = 0, 0\n",
        "while True :\n",
        "  user_num.clear()\n",
        "  user_fun()\n",
        "  for i in range (3) :\n",
        "    if com_num[i] == user_num[i] :\n",
        "      strike = strike + 1\n",
        "    elif user_num[i] in com_num :\n",
        "      ball = ball + 1\n",
        "    print(strike, \"스트라이크\", \":\", ball,\"볼\")\n",
        "    if strike == 3:\n",
        "      print(\"축하합니다.\")\n",
        "      break\n",
        "    strike, ball = 0, 0"
      ]
    },
    {
      "cell_type": "code",
      "source": [],
      "metadata": {
        "id": "3ZaHy2GR53Xg"
      },
      "execution_count": 6,
      "outputs": []
    }
  ]
}