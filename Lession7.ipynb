{
  "nbformat": 4,
  "nbformat_minor": 0,
  "metadata": {
    "colab": {
      "provenance": [],
      "authorship_tag": "ABX9TyPa2w2FDk5/QxZmuYXdlz2J",
      "include_colab_link": true
    },
    "kernelspec": {
      "name": "python3",
      "display_name": "Python 3"
    },
    "language_info": {
      "name": "python"
    }
  },
  "cells": [
    {
      "cell_type": "markdown",
      "metadata": {
        "id": "view-in-github",
        "colab_type": "text"
      },
      "source": [
        "<a href=\"https://colab.research.google.com/github/ddong1523/colab/blob/main/Lession7.ipynb\" target=\"_parent\"><img src=\"https://colab.research.google.com/assets/colab-badge.svg\" alt=\"Open In Colab\"/></a>"
      ]
    },
    {
      "cell_type": "code",
      "execution_count": 11,
      "metadata": {
        "colab": {
          "base_uri": "https://localhost:8080/",
          "height": 284
        },
        "id": "uB3wbHAu2_oM",
        "outputId": "c54f6352-e21c-49f4-de21-15f708a6f2c4"
      },
      "outputs": [
        {
          "name": "stdout",
          "output_type": "stream",
          "text": [
            "** 야구 게임 **\n",
            "3개의 숫자를 입력(1~9까지) ==> 2 3 4\n"
          ]
        },
        {
          "output_type": "error",
          "ename": "IndexError",
          "evalue": "ignored",
          "traceback": [
            "\u001b[0;31m---------------------------------------------------------------------------\u001b[0m",
            "\u001b[0;31mIndexError\u001b[0m                                Traceback (most recent call last)",
            "\u001b[0;32m<ipython-input-11-5d9c1dd1f9f8>\u001b[0m in \u001b[0;36m<module>\u001b[0;34m\u001b[0m\n\u001b[1;32m     21\u001b[0m   \u001b[0muser_fun\u001b[0m\u001b[0;34m(\u001b[0m\u001b[0;34m)\u001b[0m\u001b[0;34m\u001b[0m\u001b[0;34m\u001b[0m\u001b[0m\n\u001b[1;32m     22\u001b[0m   \u001b[0;32mfor\u001b[0m \u001b[0mi\u001b[0m \u001b[0;32min\u001b[0m \u001b[0mrange\u001b[0m \u001b[0;34m(\u001b[0m\u001b[0;36m3\u001b[0m\u001b[0;34m)\u001b[0m \u001b[0;34m:\u001b[0m\u001b[0;34m\u001b[0m\u001b[0;34m\u001b[0m\u001b[0m\n\u001b[0;32m---> 23\u001b[0;31m     \u001b[0;32mif\u001b[0m \u001b[0mcom_num\u001b[0m\u001b[0;34m[\u001b[0m\u001b[0mi\u001b[0m\u001b[0;34m]\u001b[0m \u001b[0;34m==\u001b[0m \u001b[0muser_num\u001b[0m\u001b[0;34m[\u001b[0m\u001b[0mi\u001b[0m\u001b[0;34m]\u001b[0m \u001b[0;34m:\u001b[0m\u001b[0;34m\u001b[0m\u001b[0;34m\u001b[0m\u001b[0m\n\u001b[0m\u001b[1;32m     24\u001b[0m       \u001b[0mstrike\u001b[0m \u001b[0;34m=\u001b[0m \u001b[0mstrike\u001b[0m \u001b[0;34m+\u001b[0m \u001b[0;36m1\u001b[0m\u001b[0;34m\u001b[0m\u001b[0;34m\u001b[0m\u001b[0m\n\u001b[1;32m     25\u001b[0m     \u001b[0;32melif\u001b[0m \u001b[0muser_num\u001b[0m\u001b[0;34m[\u001b[0m\u001b[0mi\u001b[0m\u001b[0;34m]\u001b[0m \u001b[0;32min\u001b[0m \u001b[0mcom_num\u001b[0m \u001b[0;34m:\u001b[0m\u001b[0;34m\u001b[0m\u001b[0;34m\u001b[0m\u001b[0m\n",
            "\u001b[0;31mIndexError\u001b[0m: list index out of range"
          ]
        }
      ],
      "source": [
        "import random\n",
        "com_list = [1,2,3,4,5,6,7,8,9]\n",
        "com_num, user_num = [], []\n",
        "\n",
        "def user_fun():\n",
        "  usr = input(\"3개의 숫자를 입력(1~9까지) ==> \")\n",
        "  for i in range(0,5,2) :\n",
        "    user_num.append(int(usr[i]))\n",
        "\n",
        "#컴퓨터 - 3개의 중복되지 않는 숫자 만들기\n",
        "for i in range(3):\n",
        "  r = random.choice(com_list)\n",
        "  com_list.remove(r)\n",
        "  com_list.append(r)\n",
        "\n",
        "print(\"** 야구 게임 **\")\n",
        "\n",
        "strike, ball = 0, 0\n",
        "while True :\n",
        "  user_num.clear()\n",
        "  user_fun()\n",
        "  for i in range (3) :\n",
        "    if com_num[i] == user_num[i] :\n",
        "      strike = strike + 1\n",
        "    elif user_num[i] in com_num :\n",
        "      ball = ball + 1\n",
        "    print(strike, \"스트라이크\", \":\", ball,\"볼\")\n",
        "    if strike == 3:\n",
        "      print(\"축하합니다.\")\n",
        "      break\n",
        "    strike, ball = 0, 0"
      ]
    },
    {
      "cell_type": "code",
      "source": [
        "#!pip3 install ColabTurtle\n",
        "import ColabTurtle.Turtle as turtle\n",
        "import random\n",
        "print(turtle.DEFAULT_WINDOW_SIZE)\n",
        "turtle.initializeTurtle()\n",
        "turtle.speed(13)\n",
        "turtle.left(-90)\n",
        "myColor = [\"red\", \"blue\", \"green\", \"yellow\", \"violet\"]\n",
        "for i in range(50, 800, 50) :\n",
        "  for j in range(50, 500, 50) :\n",
        "    turtle.penup()\n",
        "    turtle.goto(i,j)\n",
        "    turtle.pendown()\n",
        "    turtle.color(random.choice(myColor))\n",
        "    turtle.forward(1)"
      ],
      "metadata": {
        "colab": {
          "base_uri": "https://localhost:8080/",
          "height": 539
        },
        "id": "3ZaHy2GR53Xg",
        "outputId": "a127d88f-1e92-40d7-e922-1d6081af7f92"
      },
      "execution_count": 15,
      "outputs": [
        {
          "output_type": "stream",
          "name": "stdout",
          "text": [
            "(800, 500)\n"
          ]
        },
        {
          "output_type": "display_data",
          "data": {
            "text/plain": [
              "<IPython.core.display.HTML object>"
            ],
            "text/html": [
              "\n",
              "      <svg width=\"800\" height=\"500\">\n",
              "        <rect width=\"100%\" height=\"100%\" fill=\"black\"/>\n",
              "        <line x1=\"50\" y1=\"50\" x2=\"51.0\" y2=\"50.0\" stroke-linecap=\"round\" style=\"stroke:yellow;stroke-width:4\"/><line x1=\"50\" y1=\"100\" x2=\"51.0\" y2=\"100.0\" stroke-linecap=\"round\" style=\"stroke:red;stroke-width:4\"/><line x1=\"50\" y1=\"150\" x2=\"51.0\" y2=\"150.0\" stroke-linecap=\"round\" style=\"stroke:yellow;stroke-width:4\"/><line x1=\"50\" y1=\"200\" x2=\"51.0\" y2=\"200.0\" stroke-linecap=\"round\" style=\"stroke:violet;stroke-width:4\"/><line x1=\"50\" y1=\"250\" x2=\"51.0\" y2=\"250.0\" stroke-linecap=\"round\" style=\"stroke:green;stroke-width:4\"/><line x1=\"50\" y1=\"300\" x2=\"51.0\" y2=\"300.0\" stroke-linecap=\"round\" style=\"stroke:violet;stroke-width:4\"/><line x1=\"50\" y1=\"350\" x2=\"51.0\" y2=\"350.0\" stroke-linecap=\"round\" style=\"stroke:violet;stroke-width:4\"/><line x1=\"50\" y1=\"400\" x2=\"51.0\" y2=\"400.0\" stroke-linecap=\"round\" style=\"stroke:red;stroke-width:4\"/><line x1=\"50\" y1=\"450\" x2=\"51.0\" y2=\"450.0\" stroke-linecap=\"round\" style=\"stroke:violet;stroke-width:4\"/><line x1=\"100\" y1=\"50\" x2=\"101.0\" y2=\"50.0\" stroke-linecap=\"round\" style=\"stroke:blue;stroke-width:4\"/><line x1=\"100\" y1=\"100\" x2=\"101.0\" y2=\"100.0\" stroke-linecap=\"round\" style=\"stroke:yellow;stroke-width:4\"/><line x1=\"100\" y1=\"150\" x2=\"101.0\" y2=\"150.0\" stroke-linecap=\"round\" style=\"stroke:green;stroke-width:4\"/><line x1=\"100\" y1=\"200\" x2=\"101.0\" y2=\"200.0\" stroke-linecap=\"round\" style=\"stroke:yellow;stroke-width:4\"/><line x1=\"100\" y1=\"250\" x2=\"101.0\" y2=\"250.0\" stroke-linecap=\"round\" style=\"stroke:green;stroke-width:4\"/><line x1=\"100\" y1=\"300\" x2=\"101.0\" y2=\"300.0\" stroke-linecap=\"round\" style=\"stroke:red;stroke-width:4\"/><line x1=\"100\" y1=\"350\" x2=\"101.0\" y2=\"350.0\" stroke-linecap=\"round\" style=\"stroke:red;stroke-width:4\"/><line x1=\"100\" y1=\"400\" x2=\"101.0\" y2=\"400.0\" stroke-linecap=\"round\" style=\"stroke:blue;stroke-width:4\"/><line x1=\"100\" y1=\"450\" x2=\"101.0\" y2=\"450.0\" stroke-linecap=\"round\" style=\"stroke:violet;stroke-width:4\"/><line x1=\"150\" y1=\"50\" x2=\"151.0\" y2=\"50.0\" stroke-linecap=\"round\" style=\"stroke:blue;stroke-width:4\"/><line x1=\"150\" y1=\"100\" x2=\"151.0\" y2=\"100.0\" stroke-linecap=\"round\" style=\"stroke:red;stroke-width:4\"/><line x1=\"150\" y1=\"150\" x2=\"151.0\" y2=\"150.0\" stroke-linecap=\"round\" style=\"stroke:violet;stroke-width:4\"/><line x1=\"150\" y1=\"200\" x2=\"151.0\" y2=\"200.0\" stroke-linecap=\"round\" style=\"stroke:green;stroke-width:4\"/><line x1=\"150\" y1=\"250\" x2=\"151.0\" y2=\"250.0\" stroke-linecap=\"round\" style=\"stroke:violet;stroke-width:4\"/><line x1=\"150\" y1=\"300\" x2=\"151.0\" y2=\"300.0\" stroke-linecap=\"round\" style=\"stroke:red;stroke-width:4\"/><line x1=\"150\" y1=\"350\" x2=\"151.0\" y2=\"350.0\" stroke-linecap=\"round\" style=\"stroke:violet;stroke-width:4\"/><line x1=\"150\" y1=\"400\" x2=\"151.0\" y2=\"400.0\" stroke-linecap=\"round\" style=\"stroke:blue;stroke-width:4\"/><line x1=\"150\" y1=\"450\" x2=\"151.0\" y2=\"450.0\" stroke-linecap=\"round\" style=\"stroke:violet;stroke-width:4\"/><line x1=\"200\" y1=\"50\" x2=\"201.0\" y2=\"50.0\" stroke-linecap=\"round\" style=\"stroke:green;stroke-width:4\"/><line x1=\"200\" y1=\"100\" x2=\"201.0\" y2=\"100.0\" stroke-linecap=\"round\" style=\"stroke:violet;stroke-width:4\"/><line x1=\"200\" y1=\"150\" x2=\"201.0\" y2=\"150.0\" stroke-linecap=\"round\" style=\"stroke:violet;stroke-width:4\"/><line x1=\"200\" y1=\"200\" x2=\"201.0\" y2=\"200.0\" stroke-linecap=\"round\" style=\"stroke:yellow;stroke-width:4\"/><line x1=\"200\" y1=\"250\" x2=\"201.0\" y2=\"250.0\" stroke-linecap=\"round\" style=\"stroke:yellow;stroke-width:4\"/><line x1=\"200\" y1=\"300\" x2=\"201.0\" y2=\"300.0\" stroke-linecap=\"round\" style=\"stroke:red;stroke-width:4\"/><line x1=\"200\" y1=\"350\" x2=\"201.0\" y2=\"350.0\" stroke-linecap=\"round\" style=\"stroke:violet;stroke-width:4\"/><line x1=\"200\" y1=\"400\" x2=\"201.0\" y2=\"400.0\" stroke-linecap=\"round\" style=\"stroke:red;stroke-width:4\"/><line x1=\"200\" y1=\"450\" x2=\"201.0\" y2=\"450.0\" stroke-linecap=\"round\" style=\"stroke:yellow;stroke-width:4\"/><line x1=\"250\" y1=\"50\" x2=\"251.0\" y2=\"50.0\" stroke-linecap=\"round\" style=\"stroke:yellow;stroke-width:4\"/><line x1=\"250\" y1=\"100\" x2=\"251.0\" y2=\"100.0\" stroke-linecap=\"round\" style=\"stroke:yellow;stroke-width:4\"/><line x1=\"250\" y1=\"150\" x2=\"251.0\" y2=\"150.0\" stroke-linecap=\"round\" style=\"stroke:blue;stroke-width:4\"/><line x1=\"250\" y1=\"200\" x2=\"251.0\" y2=\"200.0\" stroke-linecap=\"round\" style=\"stroke:blue;stroke-width:4\"/><line x1=\"250\" y1=\"250\" x2=\"251.0\" y2=\"250.0\" stroke-linecap=\"round\" style=\"stroke:yellow;stroke-width:4\"/><line x1=\"250\" y1=\"300\" x2=\"251.0\" y2=\"300.0\" stroke-linecap=\"round\" style=\"stroke:red;stroke-width:4\"/><line x1=\"250\" y1=\"350\" x2=\"251.0\" y2=\"350.0\" stroke-linecap=\"round\" style=\"stroke:red;stroke-width:4\"/><line x1=\"250\" y1=\"400\" x2=\"251.0\" y2=\"400.0\" stroke-linecap=\"round\" style=\"stroke:violet;stroke-width:4\"/><line x1=\"250\" y1=\"450\" x2=\"251.0\" y2=\"450.0\" stroke-linecap=\"round\" style=\"stroke:blue;stroke-width:4\"/><line x1=\"300\" y1=\"50\" x2=\"301.0\" y2=\"50.0\" stroke-linecap=\"round\" style=\"stroke:violet;stroke-width:4\"/><line x1=\"300\" y1=\"100\" x2=\"301.0\" y2=\"100.0\" stroke-linecap=\"round\" style=\"stroke:blue;stroke-width:4\"/><line x1=\"300\" y1=\"150\" x2=\"301.0\" y2=\"150.0\" stroke-linecap=\"round\" style=\"stroke:yellow;stroke-width:4\"/><line x1=\"300\" y1=\"200\" x2=\"301.0\" y2=\"200.0\" stroke-linecap=\"round\" style=\"stroke:yellow;stroke-width:4\"/><line x1=\"300\" y1=\"250\" x2=\"301.0\" y2=\"250.0\" stroke-linecap=\"round\" style=\"stroke:green;stroke-width:4\"/><line x1=\"300\" y1=\"300\" x2=\"301.0\" y2=\"300.0\" stroke-linecap=\"round\" style=\"stroke:blue;stroke-width:4\"/><line x1=\"300\" y1=\"350\" x2=\"301.0\" y2=\"350.0\" stroke-linecap=\"round\" style=\"stroke:yellow;stroke-width:4\"/><line x1=\"300\" y1=\"400\" x2=\"301.0\" y2=\"400.0\" stroke-linecap=\"round\" style=\"stroke:violet;stroke-width:4\"/><line x1=\"300\" y1=\"450\" x2=\"301.0\" y2=\"450.0\" stroke-linecap=\"round\" style=\"stroke:blue;stroke-width:4\"/><line x1=\"350\" y1=\"50\" x2=\"351.0\" y2=\"50.0\" stroke-linecap=\"round\" style=\"stroke:violet;stroke-width:4\"/><line x1=\"350\" y1=\"100\" x2=\"351.0\" y2=\"100.0\" stroke-linecap=\"round\" style=\"stroke:red;stroke-width:4\"/><line x1=\"350\" y1=\"150\" x2=\"351.0\" y2=\"150.0\" stroke-linecap=\"round\" style=\"stroke:red;stroke-width:4\"/><line x1=\"350\" y1=\"200\" x2=\"351.0\" y2=\"200.0\" stroke-linecap=\"round\" style=\"stroke:green;stroke-width:4\"/><line x1=\"350\" y1=\"250\" x2=\"351.0\" y2=\"250.0\" stroke-linecap=\"round\" style=\"stroke:yellow;stroke-width:4\"/><line x1=\"350\" y1=\"300\" x2=\"351.0\" y2=\"300.0\" stroke-linecap=\"round\" style=\"stroke:violet;stroke-width:4\"/><line x1=\"350\" y1=\"350\" x2=\"351.0\" y2=\"350.0\" stroke-linecap=\"round\" style=\"stroke:green;stroke-width:4\"/><line x1=\"350\" y1=\"400\" x2=\"351.0\" y2=\"400.0\" stroke-linecap=\"round\" style=\"stroke:yellow;stroke-width:4\"/><line x1=\"350\" y1=\"450\" x2=\"351.0\" y2=\"450.0\" stroke-linecap=\"round\" style=\"stroke:green;stroke-width:4\"/><line x1=\"400\" y1=\"50\" x2=\"401.0\" y2=\"50.0\" stroke-linecap=\"round\" style=\"stroke:red;stroke-width:4\"/><line x1=\"400\" y1=\"100\" x2=\"401.0\" y2=\"100.0\" stroke-linecap=\"round\" style=\"stroke:blue;stroke-width:4\"/><line x1=\"400\" y1=\"150\" x2=\"401.0\" y2=\"150.0\" stroke-linecap=\"round\" style=\"stroke:blue;stroke-width:4\"/><line x1=\"400\" y1=\"200\" x2=\"401.0\" y2=\"200.0\" stroke-linecap=\"round\" style=\"stroke:yellow;stroke-width:4\"/><line x1=\"400\" y1=\"250\" x2=\"401.0\" y2=\"250.0\" stroke-linecap=\"round\" style=\"stroke:yellow;stroke-width:4\"/><line x1=\"400\" y1=\"300\" x2=\"401.0\" y2=\"300.0\" stroke-linecap=\"round\" style=\"stroke:yellow;stroke-width:4\"/><line x1=\"400\" y1=\"350\" x2=\"401.0\" y2=\"350.0\" stroke-linecap=\"round\" style=\"stroke:blue;stroke-width:4\"/><line x1=\"400\" y1=\"400\" x2=\"401.0\" y2=\"400.0\" stroke-linecap=\"round\" style=\"stroke:blue;stroke-width:4\"/><line x1=\"400\" y1=\"450\" x2=\"401.0\" y2=\"450.0\" stroke-linecap=\"round\" style=\"stroke:green;stroke-width:4\"/><line x1=\"450\" y1=\"50\" x2=\"451.0\" y2=\"50.0\" stroke-linecap=\"round\" style=\"stroke:yellow;stroke-width:4\"/><line x1=\"450\" y1=\"100\" x2=\"451.0\" y2=\"100.0\" stroke-linecap=\"round\" style=\"stroke:blue;stroke-width:4\"/><line x1=\"450\" y1=\"150\" x2=\"451.0\" y2=\"150.0\" stroke-linecap=\"round\" style=\"stroke:red;stroke-width:4\"/><line x1=\"450\" y1=\"200\" x2=\"451.0\" y2=\"200.0\" stroke-linecap=\"round\" style=\"stroke:yellow;stroke-width:4\"/><line x1=\"450\" y1=\"250\" x2=\"451.0\" y2=\"250.0\" stroke-linecap=\"round\" style=\"stroke:blue;stroke-width:4\"/><line x1=\"450\" y1=\"300\" x2=\"451.0\" y2=\"300.0\" stroke-linecap=\"round\" style=\"stroke:violet;stroke-width:4\"/><line x1=\"450\" y1=\"350\" x2=\"451.0\" y2=\"350.0\" stroke-linecap=\"round\" style=\"stroke:blue;stroke-width:4\"/><line x1=\"450\" y1=\"400\" x2=\"451.0\" y2=\"400.0\" stroke-linecap=\"round\" style=\"stroke:blue;stroke-width:4\"/><line x1=\"450\" y1=\"450\" x2=\"451.0\" y2=\"450.0\" stroke-linecap=\"round\" style=\"stroke:red;stroke-width:4\"/><line x1=\"500\" y1=\"50\" x2=\"501.0\" y2=\"50.0\" stroke-linecap=\"round\" style=\"stroke:red;stroke-width:4\"/><line x1=\"500\" y1=\"100\" x2=\"501.0\" y2=\"100.0\" stroke-linecap=\"round\" style=\"stroke:yellow;stroke-width:4\"/><line x1=\"500\" y1=\"150\" x2=\"501.0\" y2=\"150.0\" stroke-linecap=\"round\" style=\"stroke:yellow;stroke-width:4\"/><line x1=\"500\" y1=\"200\" x2=\"501.0\" y2=\"200.0\" stroke-linecap=\"round\" style=\"stroke:violet;stroke-width:4\"/><line x1=\"500\" y1=\"250\" x2=\"501.0\" y2=\"250.0\" stroke-linecap=\"round\" style=\"stroke:yellow;stroke-width:4\"/><line x1=\"500\" y1=\"300\" x2=\"501.0\" y2=\"300.0\" stroke-linecap=\"round\" style=\"stroke:green;stroke-width:4\"/><line x1=\"500\" y1=\"350\" x2=\"501.0\" y2=\"350.0\" stroke-linecap=\"round\" style=\"stroke:yellow;stroke-width:4\"/><line x1=\"500\" y1=\"400\" x2=\"501.0\" y2=\"400.0\" stroke-linecap=\"round\" style=\"stroke:yellow;stroke-width:4\"/><line x1=\"500\" y1=\"450\" x2=\"501.0\" y2=\"450.0\" stroke-linecap=\"round\" style=\"stroke:yellow;stroke-width:4\"/><line x1=\"550\" y1=\"50\" x2=\"551.0\" y2=\"50.0\" stroke-linecap=\"round\" style=\"stroke:yellow;stroke-width:4\"/><line x1=\"550\" y1=\"100\" x2=\"551.0\" y2=\"100.0\" stroke-linecap=\"round\" style=\"stroke:violet;stroke-width:4\"/><line x1=\"550\" y1=\"150\" x2=\"551.0\" y2=\"150.0\" stroke-linecap=\"round\" style=\"stroke:red;stroke-width:4\"/><line x1=\"550\" y1=\"200\" x2=\"551.0\" y2=\"200.0\" stroke-linecap=\"round\" style=\"stroke:violet;stroke-width:4\"/><line x1=\"550\" y1=\"250\" x2=\"551.0\" y2=\"250.0\" stroke-linecap=\"round\" style=\"stroke:violet;stroke-width:4\"/><line x1=\"550\" y1=\"300\" x2=\"551.0\" y2=\"300.0\" stroke-linecap=\"round\" style=\"stroke:yellow;stroke-width:4\"/><line x1=\"550\" y1=\"350\" x2=\"551.0\" y2=\"350.0\" stroke-linecap=\"round\" style=\"stroke:red;stroke-width:4\"/><line x1=\"550\" y1=\"400\" x2=\"551.0\" y2=\"400.0\" stroke-linecap=\"round\" style=\"stroke:yellow;stroke-width:4\"/><line x1=\"550\" y1=\"450\" x2=\"551.0\" y2=\"450.0\" stroke-linecap=\"round\" style=\"stroke:blue;stroke-width:4\"/><line x1=\"600\" y1=\"50\" x2=\"601.0\" y2=\"50.0\" stroke-linecap=\"round\" style=\"stroke:red;stroke-width:4\"/><line x1=\"600\" y1=\"100\" x2=\"601.0\" y2=\"100.0\" stroke-linecap=\"round\" style=\"stroke:blue;stroke-width:4\"/><line x1=\"600\" y1=\"150\" x2=\"601.0\" y2=\"150.0\" stroke-linecap=\"round\" style=\"stroke:blue;stroke-width:4\"/><line x1=\"600\" y1=\"200\" x2=\"601.0\" y2=\"200.0\" stroke-linecap=\"round\" style=\"stroke:violet;stroke-width:4\"/><line x1=\"600\" y1=\"250\" x2=\"601.0\" y2=\"250.0\" stroke-linecap=\"round\" style=\"stroke:blue;stroke-width:4\"/><line x1=\"600\" y1=\"300\" x2=\"601.0\" y2=\"300.0\" stroke-linecap=\"round\" style=\"stroke:green;stroke-width:4\"/><line x1=\"600\" y1=\"350\" x2=\"601.0\" y2=\"350.0\" stroke-linecap=\"round\" style=\"stroke:blue;stroke-width:4\"/><line x1=\"600\" y1=\"400\" x2=\"601.0\" y2=\"400.0\" stroke-linecap=\"round\" style=\"stroke:red;stroke-width:4\"/><line x1=\"600\" y1=\"450\" x2=\"601.0\" y2=\"450.0\" stroke-linecap=\"round\" style=\"stroke:blue;stroke-width:4\"/><line x1=\"650\" y1=\"50\" x2=\"651.0\" y2=\"50.0\" stroke-linecap=\"round\" style=\"stroke:green;stroke-width:4\"/><line x1=\"650\" y1=\"100\" x2=\"651.0\" y2=\"100.0\" stroke-linecap=\"round\" style=\"stroke:blue;stroke-width:4\"/><line x1=\"650\" y1=\"150\" x2=\"651.0\" y2=\"150.0\" stroke-linecap=\"round\" style=\"stroke:violet;stroke-width:4\"/><line x1=\"650\" y1=\"200\" x2=\"651.0\" y2=\"200.0\" stroke-linecap=\"round\" style=\"stroke:green;stroke-width:4\"/><line x1=\"650\" y1=\"250\" x2=\"651.0\" y2=\"250.0\" stroke-linecap=\"round\" style=\"stroke:violet;stroke-width:4\"/><line x1=\"650\" y1=\"300\" x2=\"651.0\" y2=\"300.0\" stroke-linecap=\"round\" style=\"stroke:green;stroke-width:4\"/><line x1=\"650\" y1=\"350\" x2=\"651.0\" y2=\"350.0\" stroke-linecap=\"round\" style=\"stroke:blue;stroke-width:4\"/><line x1=\"650\" y1=\"400\" x2=\"651.0\" y2=\"400.0\" stroke-linecap=\"round\" style=\"stroke:green;stroke-width:4\"/><line x1=\"650\" y1=\"450\" x2=\"651.0\" y2=\"450.0\" stroke-linecap=\"round\" style=\"stroke:green;stroke-width:4\"/><line x1=\"700\" y1=\"50\" x2=\"701.0\" y2=\"50.0\" stroke-linecap=\"round\" style=\"stroke:violet;stroke-width:4\"/><line x1=\"700\" y1=\"100\" x2=\"701.0\" y2=\"100.0\" stroke-linecap=\"round\" style=\"stroke:blue;stroke-width:4\"/><line x1=\"700\" y1=\"150\" x2=\"701.0\" y2=\"150.0\" stroke-linecap=\"round\" style=\"stroke:violet;stroke-width:4\"/><line x1=\"700\" y1=\"200\" x2=\"701.0\" y2=\"200.0\" stroke-linecap=\"round\" style=\"stroke:green;stroke-width:4\"/><line x1=\"700\" y1=\"250\" x2=\"701.0\" y2=\"250.0\" stroke-linecap=\"round\" style=\"stroke:green;stroke-width:4\"/><line x1=\"700\" y1=\"300\" x2=\"701.0\" y2=\"300.0\" stroke-linecap=\"round\" style=\"stroke:violet;stroke-width:4\"/><line x1=\"700\" y1=\"350\" x2=\"701.0\" y2=\"350.0\" stroke-linecap=\"round\" style=\"stroke:red;stroke-width:4\"/><line x1=\"700\" y1=\"400\" x2=\"701.0\" y2=\"400.0\" stroke-linecap=\"round\" style=\"stroke:yellow;stroke-width:4\"/><line x1=\"700\" y1=\"450\" x2=\"701.0\" y2=\"450.0\" stroke-linecap=\"round\" style=\"stroke:blue;stroke-width:4\"/><line x1=\"750\" y1=\"50\" x2=\"751.0\" y2=\"50.0\" stroke-linecap=\"round\" style=\"stroke:yellow;stroke-width:4\"/><line x1=\"750\" y1=\"100\" x2=\"751.0\" y2=\"100.0\" stroke-linecap=\"round\" style=\"stroke:yellow;stroke-width:4\"/><line x1=\"750\" y1=\"150\" x2=\"751.0\" y2=\"150.0\" stroke-linecap=\"round\" style=\"stroke:red;stroke-width:4\"/><line x1=\"750\" y1=\"200\" x2=\"751.0\" y2=\"200.0\" stroke-linecap=\"round\" style=\"stroke:yellow;stroke-width:4\"/><line x1=\"750\" y1=\"250\" x2=\"751.0\" y2=\"250.0\" stroke-linecap=\"round\" style=\"stroke:green;stroke-width:4\"/><line x1=\"750\" y1=\"300\" x2=\"751.0\" y2=\"300.0\" stroke-linecap=\"round\" style=\"stroke:violet;stroke-width:4\"/><line x1=\"750\" y1=\"350\" x2=\"751.0\" y2=\"350.0\" stroke-linecap=\"round\" style=\"stroke:violet;stroke-width:4\"/><line x1=\"750\" y1=\"400\" x2=\"751.0\" y2=\"400.0\" stroke-linecap=\"round\" style=\"stroke:violet;stroke-width:4\"/><line x1=\"750\" y1=\"450\" x2=\"751.0\" y2=\"450.0\" stroke-linecap=\"round\" style=\"stroke:yellow;stroke-width:4\"/>\n",
              "        <g visibility=visible transform=\"rotate(90,751.0,450.0) translate(733.0, 432.0)\">\n",
              "<path style=\" stroke:none;fill-rule:evenodd;fill:yellow;fill-opacity:1;\" d=\"M 18.214844 0.632812 C 16.109375 1.800781 15.011719 4.074219 15.074219 7.132812 L 15.085938 7.652344 L 14.785156 7.496094 C 13.476562 6.824219 11.957031 6.671875 10.40625 7.066406 C 8.46875 7.550781 6.515625 9.15625 4.394531 11.992188 C 3.0625 13.777344 2.679688 14.636719 3.042969 15.027344 L 3.15625 15.152344 L 3.519531 15.152344 C 4.238281 15.152344 4.828125 14.886719 8.1875 13.039062 C 9.386719 12.378906 10.371094 11.839844 10.378906 11.839844 C 10.386719 11.839844 10.355469 11.929688 10.304688 12.035156 C 9.832031 13.09375 9.257812 14.820312 8.96875 16.078125 C 7.914062 20.652344 8.617188 24.53125 11.070312 27.660156 C 11.351562 28.015625 11.363281 27.914062 10.972656 28.382812 C 8.925781 30.84375 7.945312 33.28125 8.238281 35.1875 C 8.289062 35.527344 8.28125 35.523438 8.917969 35.523438 C 10.941406 35.523438 13.074219 34.207031 15.136719 31.6875 C 15.359375 31.417969 15.328125 31.425781 15.5625 31.574219 C 16.292969 32.042969 18.023438 32.964844 18.175781 32.964844 C 18.335938 32.964844 19.941406 32.210938 20.828125 31.71875 C 20.996094 31.625 21.136719 31.554688 21.136719 31.558594 C 21.203125 31.664062 21.898438 32.414062 22.222656 32.730469 C 23.835938 34.300781 25.5625 35.132812 27.582031 35.300781 C 27.90625 35.328125 27.9375 35.308594 28.007812 34.984375 C 28.382812 33.242188 27.625 30.925781 25.863281 28.425781 L 25.542969 27.96875 L 25.699219 27.785156 C 28.945312 23.960938 29.132812 18.699219 26.257812 11.96875 L 26.207031 11.84375 L 27.945312 12.703125 C 31.53125 14.476562 32.316406 14.800781 33.03125 14.800781 C 33.976562 14.800781 33.78125 13.9375 32.472656 12.292969 C 28.519531 7.355469 25.394531 5.925781 21.921875 7.472656 L 21.558594 7.636719 L 21.578125 7.542969 C 21.699219 6.992188 21.761719 5.742188 21.699219 5.164062 C 21.496094 3.296875 20.664062 1.964844 19.003906 0.855469 C 18.480469 0.503906 18.457031 0.5 18.214844 0.632812\"/>\n",
              "</g>\n",
              "      </svg>\n",
              "    "
            ]
          },
          "metadata": {}
        }
      ]
    },
    {
      "cell_type": "code",
      "source": [
        "numList = []\n",
        "for i in range(0,4) :\n",
        "  numList.append(0)\n",
        "hap = 0\n",
        "\n",
        "for i in range(0, 4) :\n",
        "  numList[i] = int(input(\" 숫자 :\"))\n",
        "\n",
        "hap = numList[0] + numList[1] + numList[2] + numList[3]\n",
        "\n",
        "print(\"합계 ==>\", hap)"
      ],
      "metadata": {
        "colab": {
          "base_uri": "https://localhost:8080/"
        },
        "id": "for5Q45c8Gds",
        "outputId": "57b0615d-8850-494d-d820-0ae04ecf3e1f"
      },
      "execution_count": 18,
      "outputs": [
        {
          "output_type": "stream",
          "name": "stdout",
          "text": [
            " 숫자 :50\n",
            " 숫자 :40\n",
            " 숫자 :30\n",
            " 숫자 :20\n",
            "합계 ==> 140\n"
          ]
        }
      ]
    },
    {
      "cell_type": "code",
      "source": [
        "import random\n",
        "\n",
        "wiseSay = [\"삶이 있는 한 희망은 있다.\",\n",
        "           \"언제나 현재에 집중할 수 있다면 행복할 것이다.\",\n",
        "           \"신이 용기있는 자를 결코 버리지 않는다.\",\n",
        "           \"피할 수 없으면 즐겨라\",\n",
        "           \"행복한 삶을 살기 위해 필요한 것은 거의 없다\",\n",
        "           ]"
      ],
      "metadata": {
        "id": "XWaP52MDIblj"
      },
      "execution_count": 19,
      "outputs": []
    },
    {
      "cell_type": "markdown",
      "source": [
        "삼목 게임 만드기"
      ],
      "metadata": {
        "id": "FYTeSJhRrr6F"
      }
    },
    {
      "cell_type": "code",
      "source": [
        "from google.colab import output\n",
        "import random\n",
        "usred = [1,2,3,4,5,6,7,8,9]\n",
        "boardList = [ [1,2,3],\n",
        "              [4,5,6],\n",
        "              [7,8,9]]\n",
        "def display_board() : \n",
        "  print(\" \", boardList[0][0],\"|\", boardList[0][1], \"|\", boardList[0][2])\n",
        "  print(\" ---+---+---\")\n",
        "  print(\" \", boardList[1][0],\"|\", boardList[1][1], \"|\", boardList[1][2])\n",
        "  print(\" ---+---+---\")\n",
        "  print(\" \", boardList[2][0],\"|\", boardList[2][1], \"|\", boardList[2][2])\n",
        "\n",
        "def user_select() :\n",
        "  user = int(input(\"위치를 선택 : \"))\n",
        "  usred.remove(user)\n",
        "  for x in range(3) :\n",
        "    for y in range(3) :\n",
        "      if user == boardList[x][y]  : boardList[x][y] = \"o\"\n",
        "\n",
        "def com_select() :\n",
        "  com = random.choice(usred)\n",
        "  usred.remove(com)\n",
        "  for x in range(3) :\n",
        "    for y in range(3) :\n",
        "      if com == boardList[x][y]  : boardList[x][y] = \"x\"\n",
        "\n",
        "def test(player) :\n",
        "  if boardList[0][0] == boardList[0][1] == boardList[0][2] == player or \\\n",
        "   boardList[1][0] == boardList[1][1] == boardList[1][2] == player or \\\n",
        "   boardList[2][0] == boardList[2][1] == boardList[2][2] == player or \\\n",
        "   boardList[0][0] == boardList[1][1] == boardList[2][2] == player or \\\n",
        "   boardList[0][0] == boardList[1][0] == boardList[2][0] == player or \\\n",
        "   boardList[0][1] == boardList[1][1] == boardList[2][1] == player or \\\n",
        "   boardList[0][2] == boardList[1][2] == boardList[2][2] == player or \\\n",
        "   boardList[0][2] == boardList[1][1] == boardList[2][1] == player :\n",
        "   return player\n",
        "\n",
        "while True :\n",
        "  display_board()\n",
        "  user_select()\n",
        "  if test(\"o\") == \"o\" :\n",
        "    display_board() \n",
        "    print(\"유저 승\")\n",
        "    break \n",
        "  output.clear()\n",
        "  com_select()\n",
        "  output.clear()\n",
        "  if test(\"x\") == \"x\" :\n",
        "    display_board()  \n",
        "    print(\"컴퓨터 승\")\n",
        "    break"
      ],
      "metadata": {
        "colab": {
          "base_uri": "https://localhost:8080/"
        },
        "id": "uUNZW9tsjntH",
        "outputId": "0b0ab8fe-ebca-4d45-be57-4f47cbcb33bc"
      },
      "execution_count": 29,
      "outputs": [
        {
          "output_type": "stream",
          "name": "stdout",
          "text": [
            "  1 | o | 3\n",
            " ---+---+---\n",
            "  x | o | x\n",
            " ---+---+---\n",
            "  7 | 8 | 9\n",
            "위치를 선택 : 8\n",
            "  1 | o | 3\n",
            " ---+---+---\n",
            "  x | o | x\n",
            " ---+---+---\n",
            "  7 | o | 9\n",
            "유저 승\n"
          ]
        }
      ]
    },
    {
      "cell_type": "code",
      "source": [],
      "metadata": {
        "id": "0BCFqTm5sXDN"
      },
      "execution_count": null,
      "outputs": []
    }
  ]
}